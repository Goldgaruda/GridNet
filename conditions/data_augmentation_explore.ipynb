{
 "cells": [
  {
   "cell_type": "markdown",
   "metadata": {
    "ExecuteTime": {
     "end_time": "2020-09-21T08:38:54.846746Z",
     "start_time": "2020-09-21T08:38:54.840779Z"
    }
   },
   "source": [
    "#### 1. 常用的数据扩增库     \n",
    "- #### torchvision      \n",
    "https://github.com/pytorch/vision      \n",
    "pytorch官方提供的数据扩增库，提供了基本的数据数据扩增方法，可以无缝与torch进行集成；但数据扩增方法种类较少，且速度中等；       \n",
    "        \n",
    "- #### imgaug         \n",
    "https://github.com/aleju/imgaug      \n",
    "imgaug是常用的第三方数据扩增库，提供了多样的数据扩增方法，且组合起来非常方便，速度较快；      \n",
    "       \n",
    "- #### albumentations       \n",
    "https://albumentations.readthedocs.io     \n",
    "https://github.com/albumentations-team/albumentations       \n",
    "是常用的第三方数据扩增库，提供了多样的数据扩增方法，对图像分类、语义分割、物体检测和关键点检测都支持，速度较快。    "
   ]
  },
  {
   "cell_type": "code",
   "execution_count": 1,
   "metadata": {
    "ExecuteTime": {
     "end_time": "2020-09-24T22:04:35.262655Z",
     "start_time": "2020-09-24T22:04:33.857654Z"
    }
   },
   "outputs": [],
   "source": [
    "import cv2\n",
    "import os\n",
    "import numpy as np\n",
    "import torchvision.transforms as transforms\n",
    "from common_tools import set_seed, transform_invert\n",
    "import torch.nn as nn\n",
    "import torch\n",
    "\n",
    "from imgaug import augmenters as iaa\n",
    "from PIL import Image, ImageEnhance\n",
    "from matplotlib import pyplot as plt"
   ]
  },
  {
   "cell_type": "code",
   "execution_count": 98,
   "metadata": {
    "ExecuteTime": {
     "end_time": "2020-09-24T21:40:35.473464Z",
     "start_time": "2020-09-24T21:40:35.469406Z"
    }
   },
   "outputs": [],
   "source": [
    "# grayscaling\n",
    "def grayscaling(img, path):\n",
    "    image_gray = cv2.cvtColor(img, cv2.COLOR_BGR2GRAY)\n",
    "    path = path + '_gray.jpg'\n",
    "    cv2.imwrite(path, image_gray)"
   ]
  },
  {
   "cell_type": "code",
   "execution_count": 99,
   "metadata": {
    "ExecuteTime": {
     "end_time": "2020-09-24T21:40:36.623723Z",
     "start_time": "2020-09-24T21:40:36.619719Z"
    }
   },
   "outputs": [],
   "source": [
    "def gaussianblurring(img, path):\n",
    "    random_range = (0.5,1.5)\n",
    "    blur = iaa.GaussianBlur(sigma=random_range)\n",
    "    image_gaublur = blur.augment_image(img)\n",
    "    path = path + '_gaussianblur.jpg'\n",
    "    cv2.imwrite(path, image_gaublur)"
   ]
  },
  {
   "cell_type": "code",
   "execution_count": 100,
   "metadata": {
    "ExecuteTime": {
     "end_time": "2020-09-24T21:40:37.032919Z",
     "start_time": "2020-09-24T21:40:37.027919Z"
    }
   },
   "outputs": [],
   "source": [
    "def cropping(img, path):\n",
    "    height, width, _ = img.shape\n",
    "    crop_1 = iaa.CropToFixedSize(int(width*0.8), int(height*0.8), position=\"left-top\")\n",
    "    #crop_2 = iaa.CropToFixedSize(int(width*0.8), int(height*0.8), position=\"right-bottom\")\n",
    "    image_crop_1 = cv2.resize(crop_1.augment_image(img), (width, height))\n",
    "    path = path + '_crop_1.jpg'\n",
    "    cv2.imwrite(path, image_crop_1)"
   ]
  },
  {
   "cell_type": "code",
   "execution_count": 101,
   "metadata": {
    "ExecuteTime": {
     "end_time": "2020-09-24T21:40:37.502956Z",
     "start_time": "2020-09-24T21:40:37.494921Z"
    }
   },
   "outputs": [],
   "source": [
    "def add_snow(image):\n",
    "    image_HLS = cv2.cvtColor(image,cv2.COLOR_RGB2HLS) ## Conversion to HLS\n",
    "    image_HLS = np.array(image_HLS, dtype = np.float64)\n",
    "    brightness_coefficient = 2.5\n",
    "    snow_point=120 ## increase this for more snow\n",
    "    image_HLS[:,:,1][image_HLS[:,:,1]<snow_point] = image_HLS[:,:,1][image_HLS[:,:,1]<snow_point]*brightness_coefficient ## scale pixel values up for channel 1(Lightness)\n",
    "    image_HLS[:,:,1][image_HLS[:,:,1]>255]  = 255 ##Sets all values above 255 to 255\n",
    "    image_HLS = np.array(image_HLS, dtype = np.uint8)\n",
    "    image_RGB = cv2.cvtColor(image_HLS,cv2.COLOR_HLS2RGB) ## Conversion to RGB\n",
    "    return image_RGB\n",
    "\n",
    "def snowing(img, path):\n",
    "    image_snow = add_snow(img)\n",
    "    path = path + '_snow.jpg'\n",
    "    cv2.imwrite(path, image_snow)"
   ]
  },
  {
   "cell_type": "code",
   "execution_count": 102,
   "metadata": {
    "ExecuteTime": {
     "end_time": "2020-09-24T21:40:37.949921Z",
     "start_time": "2020-09-24T21:40:37.945920Z"
    }
   },
   "outputs": [],
   "source": [
    "def brightening(img, path):\n",
    "    # convert cv image to pil image\n",
    "    pil_image = Image.fromarray(img)\n",
    "    # enhance pil image by changing the brightness level\n",
    "    enhancer = ImageEnhance.Brightness(pil_image)\n",
    "    # original = 1.0; brighter > 1.0\n",
    "    brightness_level = 1.8\n",
    "    brighter_image = enhancer.enhance(brightness_level)\n",
    "    # converting pil image back to cv image\n",
    "    brighter_image = np.array(brighter_image)\n",
    "    path = path + '_bright.jpg'\n",
    "    cv2.imwrite(path, brighter_image)"
   ]
  },
  {
   "cell_type": "code",
   "execution_count": 103,
   "metadata": {
    "ExecuteTime": {
     "end_time": "2020-09-24T21:40:38.378682Z",
     "start_time": "2020-09-24T21:40:38.374680Z"
    }
   },
   "outputs": [],
   "source": [
    "def adding_fog(img, path):\n",
    "    fog = iaa.Fog()#seed=88 可以随机固定\n",
    "    image_fog = fog.augment_image(img)\n",
    "    path = path + 'fog.jpg'\n",
    "    cv2.imwrite(path, image_fog)"
   ]
  },
  {
   "cell_type": "code",
   "execution_count": 104,
   "metadata": {
    "ExecuteTime": {
     "end_time": "2020-09-24T21:40:39.933925Z",
     "start_time": "2020-09-24T21:40:39.927920Z"
    }
   },
   "outputs": [],
   "source": [
    "def adding_clouds(img, path):\n",
    "    cloud = iaa.CloudLayer(\n",
    "        intensity_mean=(190, 255), intensity_freq_exponent=(-1.5, -2.0), intensity_coarse_scale=10,\n",
    "        alpha_min=0, alpha_multiplier=(0.25, 0.75), alpha_size_px_max=(2, 8), alpha_freq_exponent=(-2.5, -2.0),\n",
    "        sparsity=(0.8, 1.0), density_multiplier=(2.0, 2.5))\n",
    "    image_cloud = cloud.augment_image(img)\n",
    "    path = path + '_cloud.jpg'\n",
    "    cv2.imwrite(path, image_cloud)"
   ]
  },
  {
   "cell_type": "code",
   "execution_count": 105,
   "metadata": {
    "ExecuteTime": {
     "end_time": "2020-09-24T21:40:40.425124Z",
     "start_time": "2020-09-24T21:40:40.423164Z"
    }
   },
   "outputs": [],
   "source": [
    "#rain"
   ]
  },
  {
   "cell_type": "code",
   "execution_count": 106,
   "metadata": {
    "ExecuteTime": {
     "end_time": "2020-09-24T21:40:42.923127Z",
     "start_time": "2020-09-24T21:40:42.921124Z"
    }
   },
   "outputs": [],
   "source": [
    "#noise"
   ]
  },
  {
   "cell_type": "code",
   "execution_count": 6,
   "metadata": {
    "ExecuteTime": {
     "end_time": "2020-09-24T22:05:24.083950Z",
     "start_time": "2020-09-24T22:05:24.080909Z"
    }
   },
   "outputs": [],
   "source": [
    "#tencrop\n",
    "train_transform = transforms.Compose([    \n",
    "    transforms.TenCrop(224, vertical_flip=False),\n",
    "    # crops是 tencrop的一个输出，是tuple形式，长度是10的，每一个元素是一张pil image， 放在了list里面，列表解析式，用totensor 转换张量\n",
    "    transforms.Lambda(lambda crops: torch.stack([(transforms.ToTensor()(crop)) for crop in crops])),\n",
    "])"
   ]
  },
  {
   "cell_type": "code",
   "execution_count": 7,
   "metadata": {
    "ExecuteTime": {
     "end_time": "2020-09-24T22:05:25.156336Z",
     "start_time": "2020-09-24T22:05:25.144337Z"
    }
   },
   "outputs": [],
   "source": [
    "img = Image.open(path).convert('RGB')\n",
    "img = train_transform(img)"
   ]
  },
  {
   "cell_type": "code",
   "execution_count": 8,
   "metadata": {
    "ExecuteTime": {
     "end_time": "2020-09-24T22:05:26.302137Z",
     "start_time": "2020-09-24T22:05:26.298126Z"
    }
   },
   "outputs": [
    {
     "data": {
      "text/plain": [
       "torch.Size([10, 3, 224, 224])"
      ]
     },
     "execution_count": 8,
     "metadata": {},
     "output_type": "execute_result"
    }
   ],
   "source": [
    "img.shape"
   ]
  },
  {
   "cell_type": "code",
   "execution_count": 9,
   "metadata": {
    "ExecuteTime": {
     "end_time": "2020-09-24T22:05:27.217442Z",
     "start_time": "2020-09-24T22:05:27.213443Z"
    }
   },
   "outputs": [],
   "source": [
    "ncrops, c, h, w = img.shape"
   ]
  },
  {
   "cell_type": "code",
   "execution_count": 10,
   "metadata": {
    "ExecuteTime": {
     "end_time": "2020-09-24T22:05:27.820864Z",
     "start_time": "2020-09-24T22:05:27.816634Z"
    }
   },
   "outputs": [
    {
     "data": {
      "text/plain": [
       "torch.Tensor"
      ]
     },
     "execution_count": 10,
     "metadata": {},
     "output_type": "execute_result"
    }
   ],
   "source": [
    "type(img)"
   ]
  },
  {
   "cell_type": "code",
   "execution_count": 11,
   "metadata": {
    "ExecuteTime": {
     "end_time": "2020-09-24T22:05:28.362927Z",
     "start_time": "2020-09-24T22:05:28.356925Z"
    }
   },
   "outputs": [
    {
     "data": {
      "text/plain": [
       "tensor(1.)"
      ]
     },
     "execution_count": 11,
     "metadata": {},
     "output_type": "execute_result"
    }
   ],
   "source": [
    "img.max()"
   ]
  },
  {
   "cell_type": "code",
   "execution_count": 12,
   "metadata": {
    "ExecuteTime": {
     "end_time": "2020-09-24T22:05:30.020663Z",
     "start_time": "2020-09-24T22:05:30.016627Z"
    }
   },
   "outputs": [],
   "source": [
    "def tencrop(img, path):\n",
    "    for n in range(ncrops):\n",
    "            img_tensor = img[n, ...]  # C H W\n",
    "            img_n = transform_invert(img_tensor, train_transform)\n",
    "            \n",
    "            sppath = os.path.splitext(path)\n",
    "            path = sppath[0]\n",
    "            \n",
    "            path_n = path + '_tencrop_{}.jpg'.format(n)\n",
    "            img_n.save(path_n, quality=95)"
   ]
  },
  {
   "cell_type": "code",
   "execution_count": 125,
   "metadata": {
    "ExecuteTime": {
     "end_time": "2020-09-24T21:52:45.219244Z",
     "start_time": "2020-09-24T21:52:45.215242Z"
    }
   },
   "outputs": [],
   "source": [
    "#tencrop_vertical\n",
    "train_transform_v = transforms.Compose([    \n",
    "    transforms.TenCrop(224, vertical_flip=True),\n",
    "    # crops是 tencrop的一个输出，是tuple形式，长度是10的，每一个元素是一张pil image， 放在了list里面，列表解析式，用totensor 转换张量\n",
    "    transforms.Lambda(lambda crops: torch.stack([(transforms.ToTensor()(crop)) for crop in crops])),\n",
    "])"
   ]
  },
  {
   "cell_type": "code",
   "execution_count": 126,
   "metadata": {
    "ExecuteTime": {
     "end_time": "2020-09-24T21:52:49.309782Z",
     "start_time": "2020-09-24T21:52:49.297780Z"
    }
   },
   "outputs": [],
   "source": [
    "img = Image.open(path).convert('RGB')\n",
    "img = train_transform_v(img)\n",
    "ncrops, c, h, w = img.shape"
   ]
  },
  {
   "cell_type": "code",
   "execution_count": 127,
   "metadata": {
    "ExecuteTime": {
     "end_time": "2020-09-24T21:52:50.182782Z",
     "start_time": "2020-09-24T21:52:50.179779Z"
    }
   },
   "outputs": [
    {
     "name": "stdout",
     "output_type": "stream",
     "text": [
      "10 3 224 224\n"
     ]
    }
   ],
   "source": [
    "print(ncrops, c, h, w)"
   ]
  },
  {
   "cell_type": "code",
   "execution_count": null,
   "metadata": {},
   "outputs": [],
   "source": []
  },
  {
   "cell_type": "code",
   "execution_count": 128,
   "metadata": {
    "ExecuteTime": {
     "end_time": "2020-09-24T21:52:52.566539Z",
     "start_time": "2020-09-24T21:52:52.561537Z"
    }
   },
   "outputs": [],
   "source": [
    "def tencrop_v(img, path):\n",
    "    for n in range(ncrops):\n",
    "        img_tensor = img[n, ...]  # C H W\n",
    "        img_n = transform_invert(img_tensor, train_transform_v)\n",
    "        \n",
    "        sppath = os.path.splitext(path)\n",
    "        path = sppath[0]\n",
    "        \n",
    "        path_n = path + '_tencrop_v_{}.jpg'.format(n)\n",
    "        img_n.save(path_n, quality=95)"
   ]
  },
  {
   "cell_type": "code",
   "execution_count": 14,
   "metadata": {
    "ExecuteTime": {
     "end_time": "2020-09-24T22:05:47.275859Z",
     "start_time": "2020-09-24T22:05:47.271883Z"
    }
   },
   "outputs": [],
   "source": [
    "color_transform = transforms.Compose([\n",
    "    transforms.ColorJitter(brightness=1, contrast=0.5,saturation=1),\n",
    "    transforms.ToTensor(),\n",
    "])"
   ]
  },
  {
   "cell_type": "code",
   "execution_count": 15,
   "metadata": {
    "ExecuteTime": {
     "end_time": "2020-09-24T22:05:47.769051Z",
     "start_time": "2020-09-24T22:05:47.762051Z"
    }
   },
   "outputs": [],
   "source": [
    "img = Image.open(path).convert('RGB')\n",
    "img = color_transform(img)"
   ]
  },
  {
   "cell_type": "code",
   "execution_count": 16,
   "metadata": {
    "ExecuteTime": {
     "end_time": "2020-09-24T22:05:48.456748Z",
     "start_time": "2020-09-24T22:05:48.452772Z"
    }
   },
   "outputs": [
    {
     "data": {
      "text/plain": [
       "torch.Tensor"
      ]
     },
     "execution_count": 16,
     "metadata": {},
     "output_type": "execute_result"
    }
   ],
   "source": [
    "type(img)"
   ]
  },
  {
   "cell_type": "code",
   "execution_count": 19,
   "metadata": {
    "ExecuteTime": {
     "end_time": "2020-09-24T22:13:13.190344Z",
     "start_time": "2020-09-24T22:13:13.187344Z"
    }
   },
   "outputs": [],
   "source": [
    "#colorJitter\n",
    "def colorJitter(img, path):\n",
    "    img_cj = transform_invert(img, color_transform)\n",
    "    path_cj = path + '_colorji.jpg'\n",
    "    img_cj.save(path_cj, quality=95)"
   ]
  },
  {
   "cell_type": "code",
   "execution_count": 77,
   "metadata": {
    "ExecuteTime": {
     "end_time": "2020-09-24T18:43:04.725392Z",
     "start_time": "2020-09-24T18:43:04.721393Z"
    }
   },
   "outputs": [],
   "source": [
    "rotation_transform = transforms.Compose([\n",
    "    transforms.RandomRotation((90), expand=True),\n",
    "    transforms.ToTensor(),\n",
    "])"
   ]
  },
  {
   "cell_type": "code",
   "execution_count": 92,
   "metadata": {
    "ExecuteTime": {
     "end_time": "2020-09-24T19:43:28.385280Z",
     "start_time": "2020-09-24T19:43:28.377280Z"
    }
   },
   "outputs": [],
   "source": [
    "img = Image.open(path).convert('RGB')\n",
    "img = rotation_transform(img)"
   ]
  },
  {
   "cell_type": "code",
   "execution_count": 93,
   "metadata": {
    "ExecuteTime": {
     "end_time": "2020-09-24T19:43:29.516684Z",
     "start_time": "2020-09-24T19:43:29.512683Z"
    }
   },
   "outputs": [],
   "source": [
    "#RandomRotation\n",
    "def randomrotation(img, path):\n",
    "    img_rr = transform_invert(img, rotation_transform)\n",
    "    sppath = os.path.splitext(path)\n",
    "    path_rr = sppath[0] + '_rotation.jpg'\n",
    "    img_rr.save(path_rr, quality=95)    "
   ]
  },
  {
   "cell_type": "code",
   "execution_count": 81,
   "metadata": {
    "ExecuteTime": {
     "end_time": "2020-09-24T19:36:51.527488Z",
     "start_time": "2020-09-24T19:36:51.520485Z"
    }
   },
   "outputs": [
    {
     "data": {
      "text/plain": [
       "'E:\\\\project\\\\LVPS\\\\input\\\\data\\\\0\\\\10948653530.jpg'"
      ]
     },
     "execution_count": 81,
     "metadata": {},
     "output_type": "execute_result"
    }
   ],
   "source": [
    "path"
   ]
  },
  {
   "cell_type": "code",
   "execution_count": 83,
   "metadata": {
    "ExecuteTime": {
     "end_time": "2020-09-24T19:39:21.606706Z",
     "start_time": "2020-09-24T19:39:21.603706Z"
    }
   },
   "outputs": [
    {
     "data": {
      "text/plain": [
       "('E:\\\\project\\\\LVPS\\\\input\\\\data\\\\0\\\\10948653530', '.jpg')"
      ]
     },
     "execution_count": 83,
     "metadata": {},
     "output_type": "execute_result"
    }
   ],
   "source": [
    "sppath"
   ]
  },
  {
   "cell_type": "code",
   "execution_count": 3,
   "metadata": {
    "ExecuteTime": {
     "end_time": "2020-09-24T22:05:05.386968Z",
     "start_time": "2020-09-24T22:05:05.381935Z"
    }
   },
   "outputs": [],
   "source": [
    "root_path = \"E:\\project\\LVPS\\input\\data\"\n",
    "path = os.path.join(root_path, '0')\n",
    "name = os.listdir(path) #是一个list\n",
    "path = os.path.join(path,name[0])\n",
    "\n",
    "img=cv2.imread(path)"
   ]
  },
  {
   "cell_type": "code",
   "execution_count": 4,
   "metadata": {
    "ExecuteTime": {
     "end_time": "2020-09-24T22:05:06.951135Z",
     "start_time": "2020-09-24T22:05:06.945099Z"
    }
   },
   "outputs": [
    {
     "data": {
      "text/plain": [
       "'E:\\\\project\\\\LVPS\\\\input\\\\data\\\\0\\\\0.jpg'"
      ]
     },
     "execution_count": 4,
     "metadata": {},
     "output_type": "execute_result"
    }
   ],
   "source": [
    "path"
   ]
  },
  {
   "cell_type": "code",
   "execution_count": null,
   "metadata": {},
   "outputs": [],
   "source": [
    "grayscaling(img, path)"
   ]
  },
  {
   "cell_type": "code",
   "execution_count": 29,
   "metadata": {
    "ExecuteTime": {
     "end_time": "2020-09-21T19:01:43.981711Z",
     "start_time": "2020-09-21T19:01:43.966747Z"
    }
   },
   "outputs": [],
   "source": [
    "gaussianblurring(img, path)"
   ]
  },
  {
   "cell_type": "code",
   "execution_count": 39,
   "metadata": {
    "ExecuteTime": {
     "end_time": "2020-09-21T19:08:02.282019Z",
     "start_time": "2020-09-21T19:08:02.275015Z"
    }
   },
   "outputs": [],
   "source": [
    "cropping(img, path)"
   ]
  },
  {
   "cell_type": "code",
   "execution_count": 48,
   "metadata": {
    "ExecuteTime": {
     "end_time": "2020-09-21T19:11:53.208809Z",
     "start_time": "2020-09-21T19:11:53.197288Z"
    }
   },
   "outputs": [],
   "source": [
    "snowing(img, path)"
   ]
  },
  {
   "cell_type": "code",
   "execution_count": 53,
   "metadata": {
    "ExecuteTime": {
     "end_time": "2020-09-21T19:20:27.332350Z",
     "start_time": "2020-09-21T19:20:27.324311Z"
    }
   },
   "outputs": [],
   "source": [
    "brightening(img, path)"
   ]
  },
  {
   "cell_type": "code",
   "execution_count": 69,
   "metadata": {
    "ExecuteTime": {
     "end_time": "2020-09-21T19:27:44.239970Z",
     "start_time": "2020-09-21T19:27:44.214971Z"
    }
   },
   "outputs": [],
   "source": [
    "adding_fog(img, path)"
   ]
  },
  {
   "cell_type": "code",
   "execution_count": 79,
   "metadata": {
    "ExecuteTime": {
     "end_time": "2020-09-21T19:31:56.088204Z",
     "start_time": "2020-09-21T19:31:56.062196Z"
    }
   },
   "outputs": [],
   "source": [
    "adding_clouds(img, path)"
   ]
  },
  {
   "cell_type": "code",
   "execution_count": 13,
   "metadata": {
    "ExecuteTime": {
     "end_time": "2020-09-24T22:05:36.613604Z",
     "start_time": "2020-09-24T22:05:36.566604Z"
    }
   },
   "outputs": [],
   "source": [
    "tencrop(img, path)"
   ]
  },
  {
   "cell_type": "code",
   "execution_count": 129,
   "metadata": {
    "ExecuteTime": {
     "end_time": "2020-09-24T21:52:57.743576Z",
     "start_time": "2020-09-24T21:52:57.723579Z"
    },
    "collapsed": true
   },
   "outputs": [
    {
     "ename": "AttributeError",
     "evalue": "'Tensor' object has no attribute 'astype'",
     "output_type": "error",
     "traceback": [
      "\u001b[1;31m---------------------------------------------------------------------------\u001b[0m",
      "\u001b[1;31mAttributeError\u001b[0m                            Traceback (most recent call last)",
      "\u001b[1;32m<ipython-input-129-f864d7e2e031>\u001b[0m in \u001b[0;36m<module>\u001b[1;34m\u001b[0m\n\u001b[1;32m----> 1\u001b[1;33m \u001b[0mtencrop_v\u001b[0m\u001b[1;33m(\u001b[0m\u001b[0mimg\u001b[0m\u001b[1;33m,\u001b[0m \u001b[0mpath\u001b[0m\u001b[1;33m)\u001b[0m\u001b[1;33m\u001b[0m\u001b[1;33m\u001b[0m\u001b[0m\n\u001b[0m",
      "\u001b[1;32m<ipython-input-128-6888ef177a5d>\u001b[0m in \u001b[0;36mtencrop_v\u001b[1;34m(img, path)\u001b[0m\n\u001b[0;32m      2\u001b[0m     \u001b[1;32mfor\u001b[0m \u001b[0mn\u001b[0m \u001b[1;32min\u001b[0m \u001b[0mrange\u001b[0m\u001b[1;33m(\u001b[0m\u001b[0mncrops\u001b[0m\u001b[1;33m)\u001b[0m\u001b[1;33m:\u001b[0m\u001b[1;33m\u001b[0m\u001b[1;33m\u001b[0m\u001b[0m\n\u001b[0;32m      3\u001b[0m         \u001b[0mimg_tensor\u001b[0m \u001b[1;33m=\u001b[0m \u001b[0mimg\u001b[0m\u001b[1;33m[\u001b[0m\u001b[0mn\u001b[0m\u001b[1;33m,\u001b[0m \u001b[1;33m...\u001b[0m\u001b[1;33m]\u001b[0m  \u001b[1;31m# C H W\u001b[0m\u001b[1;33m\u001b[0m\u001b[1;33m\u001b[0m\u001b[0m\n\u001b[1;32m----> 4\u001b[1;33m         \u001b[0mimg_n\u001b[0m \u001b[1;33m=\u001b[0m \u001b[0mtransform_invert\u001b[0m\u001b[1;33m(\u001b[0m\u001b[0mimg_tensor\u001b[0m\u001b[1;33m,\u001b[0m \u001b[0mtrain_transform_v\u001b[0m\u001b[1;33m)\u001b[0m\u001b[1;33m\u001b[0m\u001b[1;33m\u001b[0m\u001b[0m\n\u001b[0m\u001b[0;32m      5\u001b[0m \u001b[1;33m\u001b[0m\u001b[0m\n\u001b[0;32m      6\u001b[0m         \u001b[0msppath\u001b[0m \u001b[1;33m=\u001b[0m \u001b[0mos\u001b[0m\u001b[1;33m.\u001b[0m\u001b[0mpath\u001b[0m\u001b[1;33m.\u001b[0m\u001b[0msplitext\u001b[0m\u001b[1;33m(\u001b[0m\u001b[0mpath\u001b[0m\u001b[1;33m)\u001b[0m\u001b[1;33m\u001b[0m\u001b[1;33m\u001b[0m\u001b[0m\n",
      "\u001b[1;32mE:\\project\\LVPS\\common_tools.py\u001b[0m in \u001b[0;36mtransform_invert\u001b[1;34m(img_, transform_train)\u001b[0m\n\u001b[0;32m     37\u001b[0m     \u001b[1;31m#彩色图\u001b[0m\u001b[1;33m\u001b[0m\u001b[1;33m\u001b[0m\u001b[1;33m\u001b[0m\u001b[0m\n\u001b[0;32m     38\u001b[0m     \u001b[1;32mif\u001b[0m \u001b[0mimg_\u001b[0m\u001b[1;33m.\u001b[0m\u001b[0mshape\u001b[0m\u001b[1;33m[\u001b[0m\u001b[1;36m2\u001b[0m\u001b[1;33m]\u001b[0m \u001b[1;33m==\u001b[0m \u001b[1;36m3\u001b[0m\u001b[1;33m:\u001b[0m\u001b[1;33m\u001b[0m\u001b[1;33m\u001b[0m\u001b[0m\n\u001b[1;32m---> 39\u001b[1;33m         \u001b[0mimg_\u001b[0m \u001b[1;33m=\u001b[0m \u001b[0mImage\u001b[0m\u001b[1;33m.\u001b[0m\u001b[0mfromarray\u001b[0m\u001b[1;33m(\u001b[0m\u001b[0mimg_\u001b[0m\u001b[1;33m.\u001b[0m\u001b[0mastype\u001b[0m\u001b[1;33m(\u001b[0m\u001b[1;34m'uint8'\u001b[0m\u001b[1;33m)\u001b[0m\u001b[1;33m)\u001b[0m\u001b[1;33m.\u001b[0m\u001b[0mconvert\u001b[0m\u001b[1;33m(\u001b[0m\u001b[1;34m'RGB'\u001b[0m\u001b[1;33m)\u001b[0m\u001b[1;33m\u001b[0m\u001b[1;33m\u001b[0m\u001b[0m\n\u001b[0m\u001b[0;32m     40\u001b[0m     \u001b[1;32melif\u001b[0m \u001b[0mimg_\u001b[0m\u001b[1;33m.\u001b[0m\u001b[0mshape\u001b[0m\u001b[1;33m[\u001b[0m\u001b[1;36m2\u001b[0m\u001b[1;33m]\u001b[0m \u001b[1;33m==\u001b[0m \u001b[1;36m1\u001b[0m\u001b[1;33m:\u001b[0m\u001b[1;33m\u001b[0m\u001b[1;33m\u001b[0m\u001b[0m\n\u001b[0;32m     41\u001b[0m         \u001b[0mimg_\u001b[0m \u001b[1;33m=\u001b[0m \u001b[0mImage\u001b[0m\u001b[1;33m.\u001b[0m\u001b[0mfromarray\u001b[0m\u001b[1;33m(\u001b[0m\u001b[0mimg_\u001b[0m\u001b[1;33m.\u001b[0m\u001b[0mastype\u001b[0m\u001b[1;33m(\u001b[0m\u001b[1;34m'uint8'\u001b[0m\u001b[1;33m)\u001b[0m\u001b[1;33m.\u001b[0m\u001b[0msqueeze\u001b[0m\u001b[1;33m(\u001b[0m\u001b[1;33m)\u001b[0m\u001b[1;33m)\u001b[0m\u001b[1;33m\u001b[0m\u001b[1;33m\u001b[0m\u001b[0m\n",
      "\u001b[1;31mAttributeError\u001b[0m: 'Tensor' object has no attribute 'astype'"
     ]
    }
   ],
   "source": [
    "tencrop_v(img, path)"
   ]
  },
  {
   "cell_type": "code",
   "execution_count": 20,
   "metadata": {
    "ExecuteTime": {
     "end_time": "2020-09-24T22:13:18.005826Z",
     "start_time": "2020-09-24T22:13:17.999794Z"
    }
   },
   "outputs": [],
   "source": [
    "colorJitter(img, path)"
   ]
  },
  {
   "cell_type": "code",
   "execution_count": 94,
   "metadata": {
    "ExecuteTime": {
     "end_time": "2020-09-24T19:43:35.204019Z",
     "start_time": "2020-09-24T19:43:35.192021Z"
    }
   },
   "outputs": [],
   "source": [
    "randomrotation(img, path)"
   ]
  },
  {
   "cell_type": "code",
   "execution_count": null,
   "metadata": {},
   "outputs": [],
   "source": []
  },
  {
   "cell_type": "code",
   "execution_count": null,
   "metadata": {},
   "outputs": [],
   "source": []
  },
  {
   "cell_type": "code",
   "execution_count": null,
   "metadata": {},
   "outputs": [],
   "source": []
  },
  {
   "cell_type": "code",
   "execution_count": null,
   "metadata": {},
   "outputs": [],
   "source": []
  },
  {
   "cell_type": "code",
   "execution_count": null,
   "metadata": {},
   "outputs": [],
   "source": []
  },
  {
   "cell_type": "code",
   "execution_count": null,
   "metadata": {},
   "outputs": [],
   "source": []
  },
  {
   "cell_type": "code",
   "execution_count": null,
   "metadata": {},
   "outputs": [],
   "source": []
  },
  {
   "cell_type": "code",
   "execution_count": null,
   "metadata": {},
   "outputs": [],
   "source": []
  },
  {
   "cell_type": "code",
   "execution_count": null,
   "metadata": {},
   "outputs": [],
   "source": []
  },
  {
   "cell_type": "code",
   "execution_count": 82,
   "metadata": {
    "ExecuteTime": {
     "end_time": "2020-09-21T19:39:44.667992Z",
     "start_time": "2020-09-21T19:39:44.663994Z"
    }
   },
   "outputs": [],
   "source": [
    "import torch.nn as nn\n",
    "import torch"
   ]
  },
  {
   "cell_type": "code",
   "execution_count": 85,
   "metadata": {
    "ExecuteTime": {
     "end_time": "2020-09-21T19:40:17.751550Z",
     "start_time": "2020-09-21T19:40:17.743549Z"
    }
   },
   "outputs": [
    {
     "name": "stdout",
     "output_type": "stream",
     "text": [
      "输入处理前图片：\n",
      "tensor([ 0.5639,  0.1311,  0.4792, -2.1313, -0.4849,  1.5956, -1.6062])\n",
      "ReLU输出：\n",
      "tensor([0.5639, 0.1311, 0.4792, 0.0000, 0.0000, 1.5956, 0.0000])\n",
      "输出的尺度：\n",
      "torch.Size([7])\n",
      "输入处理后图片：\n",
      "tensor([ 0.5639,  0.1311,  0.4792, -2.1313, -0.4849,  1.5956, -1.6062])\n"
     ]
    }
   ],
   "source": [
    "m = nn.ReLU()\n",
    "input = torch.randn(7)\n",
    "\n",
    "print(\"输入处理前图片：\")\n",
    "print(input)\n",
    "\n",
    "output = m(input)\n",
    "\n",
    "print(\"ReLU输出：\")\n",
    "print(output)\n",
    "print(\"输出的尺度：\")\n",
    "print(output.size())\n",
    "\n",
    "print(\"输入处理后图片：\")\n",
    "print(input)"
   ]
  },
  {
   "cell_type": "code",
   "execution_count": null,
   "metadata": {},
   "outputs": [],
   "source": []
  }
 ],
 "metadata": {
  "kernelspec": {
   "display_name": "Python [conda env:root]",
   "language": "python",
   "name": "conda-root-py"
  },
  "language_info": {
   "codemirror_mode": {
    "name": "ipython",
    "version": 3
   },
   "file_extension": ".py",
   "mimetype": "text/x-python",
   "name": "python",
   "nbconvert_exporter": "python",
   "pygments_lexer": "ipython3",
   "version": "3.8.5"
  },
  "toc": {
   "base_numbering": 1,
   "nav_menu": {},
   "number_sections": true,
   "sideBar": true,
   "skip_h1_title": false,
   "title_cell": "Table of Contents",
   "title_sidebar": "Contents",
   "toc_cell": false,
   "toc_position": {},
   "toc_section_display": true,
   "toc_window_display": false
  },
  "varInspector": {
   "cols": {
    "lenName": 16,
    "lenType": 16,
    "lenVar": 40
   },
   "kernels_config": {
    "python": {
     "delete_cmd_postfix": "",
     "delete_cmd_prefix": "del ",
     "library": "var_list.py",
     "varRefreshCmd": "print(var_dic_list())"
    },
    "r": {
     "delete_cmd_postfix": ") ",
     "delete_cmd_prefix": "rm(",
     "library": "var_list.r",
     "varRefreshCmd": "cat(var_dic_list()) "
    }
   },
   "types_to_exclude": [
    "module",
    "function",
    "builtin_function_or_method",
    "instance",
    "_Feature"
   ],
   "window_display": false
  }
 },
 "nbformat": 4,
 "nbformat_minor": 4
}
