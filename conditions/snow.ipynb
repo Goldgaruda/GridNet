{
 "cells": [
  {
   "cell_type": "markdown",
   "metadata": {
    "ExecuteTime": {
     "end_time": "2020-09-21T08:38:54.846746Z",
     "start_time": "2020-09-21T08:38:54.840779Z"
    }
   },
   "source": [
    "#### 1. 常用的数据扩增库     \n",
    "- #### torchvision      \n",
    "https://github.com/pytorch/vision      \n",
    "pytorch官方提供的数据扩增库，提供了基本的数据数据扩增方法，可以无缝与torch进行集成；但数据扩增方法种类较少，且速度中等；       \n",
    "        \n",
    "- #### imgaug         \n",
    "https://github.com/aleju/imgaug      \n",
    "imgaug是常用的第三方数据扩增库，提供了多样的数据扩增方法，且组合起来非常方便，速度较快；      \n",
    "       \n",
    "- #### albumentations       \n",
    "https://albumentations.readthedocs.io     \n",
    "https://github.com/albumentations-team/albumentations       \n",
    "是常用的第三方数据扩增库，提供了多样的数据扩增方法，对图像分类、语义分割、物体检测和关键点检测都支持，速度较快。    "
   ]
  },
  {
   "cell_type": "code",
   "execution_count": 1,
   "metadata": {
    "ExecuteTime": {
     "end_time": "2022-04-24T13:40:51.352525Z",
     "start_time": "2022-04-24T13:40:50.009509Z"
    }
   },
   "outputs": [],
   "source": [
    "import cv2\n",
    "import os\n",
    "import numpy as np\n",
    "import torchvision.transforms as transforms\n",
    "from common_tools import set_seed, transform_invert\n",
    "import torch.nn as nn\n",
    "import torch\n",
    "\n",
    "from imgaug import augmenters as iaa\n",
    "from PIL import Image, ImageEnhance\n",
    "from matplotlib import pyplot as plt"
   ]
  },
  {
   "cell_type": "code",
   "execution_count": 2,
   "metadata": {
    "ExecuteTime": {
     "end_time": "2022-04-24T13:41:33.832245Z",
     "start_time": "2022-04-24T13:41:33.802251Z"
    }
   },
   "outputs": [],
   "source": [
    "from albumentations import (\n",
    "    RandomFog,RandomRain,RandomShadow,RandomSnow\n",
    ")"
   ]
  },
  {
   "cell_type": "code",
   "execution_count": 10,
   "metadata": {
    "ExecuteTime": {
     "end_time": "2022-04-24T13:47:22.635139Z",
     "start_time": "2022-04-24T13:47:22.626139Z"
    }
   },
   "outputs": [],
   "source": [
    "ori = 'D:\\\\project\\\\code\\\\classification\\\\data\\\\test_images2\\\\'\n",
    "file_name  = os.listdir(ori)"
   ]
  },
  {
   "cell_type": "code",
   "execution_count": 11,
   "metadata": {
    "ExecuteTime": {
     "end_time": "2022-04-24T13:47:23.660520Z",
     "start_time": "2022-04-24T13:47:23.644523Z"
    }
   },
   "outputs": [],
   "source": [
    "def adding_snow1(img):\n",
    "    tran = RandomShadow(p=1.0)\n",
    "    image_rain = tran(image=img)['image']\n",
    "    return image_rain\n"
   ]
  },
  {
   "cell_type": "code",
   "execution_count": 12,
   "metadata": {
    "ExecuteTime": {
     "end_time": "2022-04-24T13:47:25.624496Z",
     "start_time": "2022-04-24T13:47:25.610497Z"
    }
   },
   "outputs": [],
   "source": [
    "newpath = 'D:\\\\project\\\\code\\\\classification\\\\data\\\\test_snow\\\\'"
   ]
  },
  {
   "cell_type": "code",
   "execution_count": 6,
   "metadata": {
    "ExecuteTime": {
     "end_time": "2022-04-24T13:41:47.539304Z",
     "start_time": "2022-04-24T13:41:39.088704Z"
    }
   },
   "outputs": [],
   "source": [
    "for jpg in file_name:\n",
    "    path = os.path.join(ori, jpg)\n",
    "    img = cv2.imread(path)\n",
    "    image_rain = adding_rain(img)\n",
    "    save_path = os.path.join(newpath, jpg)\n",
    "    cv2.imwrite(save_path, image_rain)  "
   ]
  },
  {
   "cell_type": "code",
   "execution_count": null,
   "metadata": {},
   "outputs": [],
   "source": []
  },
  {
   "cell_type": "code",
   "execution_count": 13,
   "metadata": {
    "ExecuteTime": {
     "end_time": "2022-04-24T13:47:32.116778Z",
     "start_time": "2022-04-24T13:47:32.096782Z"
    }
   },
   "outputs": [],
   "source": [
    "def adding_snow2(image):\n",
    "    image_HLS = cv2.cvtColor(image,cv2.COLOR_RGB2HLS) ## Conversion to HLS\n",
    "    image_HLS = np.array(image_HLS, dtype = np.float64)\n",
    "    brightness_coefficient = 2.5\n",
    "    snow_point=120 ## increase this for more snow\n",
    "    image_HLS[:,:,1][image_HLS[:,:,1]<snow_point] = image_HLS[:,:,1][image_HLS[:,:,1]<snow_point]*brightness_coefficient ## scale pixel values up for channel 1(Lightness)\n",
    "    image_HLS[:,:,1][image_HLS[:,:,1]>255]  = 255 ##Sets all values above 255 to 255\n",
    "    image_HLS = np.array(image_HLS, dtype = np.uint8)\n",
    "    image_RGB = cv2.cvtColor(image_HLS,cv2.COLOR_HLS2RGB) ## Conversion to RGB\n",
    "    return image_RGB\n"
   ]
  },
  {
   "cell_type": "code",
   "execution_count": 14,
   "metadata": {
    "ExecuteTime": {
     "end_time": "2022-04-24T13:48:21.294885Z",
     "start_time": "2022-04-24T13:48:20.010191Z"
    }
   },
   "outputs": [],
   "source": [
    "for jpg in file_name:\n",
    "    path = os.path.join(ori, jpg)\n",
    "    img = cv2.imread(path)\n",
    "    image_rain = adding_snow2(img)\n",
    "    save_path = os.path.join(newpath, jpg)\n",
    "    cv2.imwrite(save_path, image_rain)  "
   ]
  },
  {
   "cell_type": "code",
   "execution_count": null,
   "metadata": {},
   "outputs": [],
   "source": []
  },
  {
   "cell_type": "code",
   "execution_count": null,
   "metadata": {},
   "outputs": [],
   "source": []
  },
  {
   "cell_type": "code",
   "execution_count": null,
   "metadata": {},
   "outputs": [],
   "source": []
  }
 ],
 "metadata": {
  "kernelspec": {
   "display_name": "Python [conda env:py38] *",
   "language": "python",
   "name": "conda-env-py38-py"
  },
  "language_info": {
   "codemirror_mode": {
    "name": "ipython",
    "version": 3
   },
   "file_extension": ".py",
   "mimetype": "text/x-python",
   "name": "python",
   "nbconvert_exporter": "python",
   "pygments_lexer": "ipython3",
   "version": "3.8.8"
  },
  "toc": {
   "base_numbering": 1,
   "nav_menu": {},
   "number_sections": true,
   "sideBar": true,
   "skip_h1_title": false,
   "title_cell": "Table of Contents",
   "title_sidebar": "Contents",
   "toc_cell": false,
   "toc_position": {},
   "toc_section_display": true,
   "toc_window_display": false
  },
  "varInspector": {
   "cols": {
    "lenName": 16,
    "lenType": 16,
    "lenVar": 40
   },
   "kernels_config": {
    "python": {
     "delete_cmd_postfix": "",
     "delete_cmd_prefix": "del ",
     "library": "var_list.py",
     "varRefreshCmd": "print(var_dic_list())"
    },
    "r": {
     "delete_cmd_postfix": ") ",
     "delete_cmd_prefix": "rm(",
     "library": "var_list.r",
     "varRefreshCmd": "cat(var_dic_list()) "
    }
   },
   "types_to_exclude": [
    "module",
    "function",
    "builtin_function_or_method",
    "instance",
    "_Feature"
   ],
   "window_display": false
  }
 },
 "nbformat": 4,
 "nbformat_minor": 4
}
