{
 "cells": [
  {
   "cell_type": "markdown",
   "metadata": {
    "ExecuteTime": {
     "end_time": "2020-09-21T08:38:54.846746Z",
     "start_time": "2020-09-21T08:38:54.840779Z"
    }
   },
   "source": [
    "#### 1. 常用的数据扩增库     \n",
    "- #### torchvision      \n",
    "https://github.com/pytorch/vision      \n",
    "pytorch官方提供的数据扩增库，提供了基本的数据数据扩增方法，可以无缝与torch进行集成；但数据扩增方法种类较少，且速度中等；       \n",
    "        \n",
    "- #### imgaug         \n",
    "https://github.com/aleju/imgaug      \n",
    "imgaug是常用的第三方数据扩增库，提供了多样的数据扩增方法，且组合起来非常方便，速度较快；      \n",
    "       \n",
    "- #### albumentations       \n",
    "https://albumentations.readthedocs.io     \n",
    "https://github.com/albumentations-team/albumentations       \n",
    "是常用的第三方数据扩增库，提供了多样的数据扩增方法，对图像分类、语义分割、物体检测和关键点检测都支持，速度较快。    "
   ]
  },
  {
   "cell_type": "code",
   "execution_count": 2,
   "metadata": {
    "ExecuteTime": {
     "end_time": "2022-04-24T13:51:32.589320Z",
     "start_time": "2022-04-24T13:51:30.268675Z"
    }
   },
   "outputs": [],
   "source": [
    "import cv2\n",
    "import os\n",
    "import numpy as np\n",
    "import torchvision.transforms as transforms\n",
    "from common_tools import set_seed, transform_invert\n",
    "import torch.nn as nn\n",
    "import torch\n",
    "\n",
    "from imgaug import augmenters as iaa\n",
    "from PIL import Image, ImageEnhance\n",
    "from matplotlib import pyplot as plt"
   ]
  },
  {
   "cell_type": "code",
   "execution_count": 3,
   "metadata": {
    "ExecuteTime": {
     "end_time": "2022-04-24T13:51:32.648889Z",
     "start_time": "2022-04-24T13:51:32.621141Z"
    }
   },
   "outputs": [],
   "source": [
    "from albumentations import (\n",
    "    RandomFog,RandomRain,RandomShadow,RandomSnow\n",
    ")"
   ]
  },
  {
   "cell_type": "code",
   "execution_count": 8,
   "metadata": {
    "ExecuteTime": {
     "end_time": "2022-04-24T13:54:05.902690Z",
     "start_time": "2022-04-24T13:54:05.879661Z"
    }
   },
   "outputs": [],
   "source": [
    "ori = 'D:\\\\project\\\\code\\\\classification\\\\data\\\\train_images\\\\'\n",
    "file_name  = os.listdir(ori)"
   ]
  },
  {
   "cell_type": "code",
   "execution_count": 5,
   "metadata": {
    "ExecuteTime": {
     "end_time": "2022-04-24T13:51:35.094549Z",
     "start_time": "2022-04-24T13:51:35.083556Z"
    }
   },
   "outputs": [],
   "source": [
    "newpath = 'D:\\\\project\\\\code\\\\classification\\\\data\\\\train_cloud\\\\'"
   ]
  },
  {
   "cell_type": "code",
   "execution_count": 6,
   "metadata": {
    "ExecuteTime": {
     "end_time": "2022-04-24T13:51:38.743006Z",
     "start_time": "2022-04-24T13:51:38.728003Z"
    }
   },
   "outputs": [],
   "source": [
    "def adding_clouds(img):\n",
    "    cloud = iaa.CloudLayer(\n",
    "        intensity_mean=(190, 255), intensity_freq_exponent=(-1.5, -2.0), intensity_coarse_scale=10,\n",
    "        alpha_min=0, alpha_multiplier=(0.25, 0.75), alpha_size_px_max=(2, 8), alpha_freq_exponent=(-2.5, -2.0),\n",
    "        sparsity=(0.8, 1.0), density_multiplier=(2.0, 2.5))\n",
    "    image_cloud = cloud.augment_image(img)\n",
    "    return image_cloud"
   ]
  },
  {
   "cell_type": "code",
   "execution_count": 7,
   "metadata": {
    "ExecuteTime": {
     "end_time": "2022-04-24T13:51:45.505643Z",
     "start_time": "2022-04-24T13:51:41.974932Z"
    }
   },
   "outputs": [],
   "source": [
    "for jpg in file_name:\n",
    "    path = os.path.join(ori, jpg)\n",
    "    img = cv2.imread(path)\n",
    "    image_rain = adding_clouds(img)\n",
    "    save_path = os.path.join(newpath, jpg)\n",
    "    cv2.imwrite(save_path, image_rain)  "
   ]
  },
  {
   "cell_type": "code",
   "execution_count": null,
   "metadata": {},
   "outputs": [],
   "source": []
  },
  {
   "cell_type": "code",
   "execution_count": null,
   "metadata": {},
   "outputs": [],
   "source": []
  },
  {
   "cell_type": "code",
   "execution_count": null,
   "metadata": {},
   "outputs": [],
   "source": []
  }
 ],
 "metadata": {
  "kernelspec": {
   "display_name": "Python [conda env:py38] *",
   "language": "python",
   "name": "conda-env-py38-py"
  },
  "language_info": {
   "codemirror_mode": {
    "name": "ipython",
    "version": 3
   },
   "file_extension": ".py",
   "mimetype": "text/x-python",
   "name": "python",
   "nbconvert_exporter": "python",
   "pygments_lexer": "ipython3",
   "version": "3.8.8"
  },
  "toc": {
   "base_numbering": 1,
   "nav_menu": {},
   "number_sections": true,
   "sideBar": true,
   "skip_h1_title": false,
   "title_cell": "Table of Contents",
   "title_sidebar": "Contents",
   "toc_cell": false,
   "toc_position": {},
   "toc_section_display": true,
   "toc_window_display": false
  },
  "varInspector": {
   "cols": {
    "lenName": 16,
    "lenType": 16,
    "lenVar": 40
   },
   "kernels_config": {
    "python": {
     "delete_cmd_postfix": "",
     "delete_cmd_prefix": "del ",
     "library": "var_list.py",
     "varRefreshCmd": "print(var_dic_list())"
    },
    "r": {
     "delete_cmd_postfix": ") ",
     "delete_cmd_prefix": "rm(",
     "library": "var_list.r",
     "varRefreshCmd": "cat(var_dic_list()) "
    }
   },
   "types_to_exclude": [
    "module",
    "function",
    "builtin_function_or_method",
    "instance",
    "_Feature"
   ],
   "window_display": false
  }
 },
 "nbformat": 4,
 "nbformat_minor": 4
}
